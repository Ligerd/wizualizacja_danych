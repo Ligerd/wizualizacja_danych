{
 "cells": [
  {
   "cell_type": "markdown",
   "id": "d37c238e",
   "metadata": {},
   "source": [
    "# NeRV\n",
    "NeRV = Neighborhood Retrieval Visualizer, ~ wizualizator odszukiwania sąsiadów.\n",
    "\n",
    "\n",
    "## Kolejne elementy implementacji NeRV:\n",
    "* [Wprowadzenie](#INIT)\n",
    "* [Przetwarzanie danych](#DATAPROCESSING)\n",
    "* [Proces wizualizacji](#VISUALISATION)\n",
    "* [Kalsteryzacja](#KMEANS)\n",
    "* [Porównanie z poprzednimi](#COMPARSION)\n",
    "* [Podsumowanie](#SUMMARY)\n",
    "* [Wartościowe linki](#LINKS)\n",
    "\n",
    "<a id='INIT'></a>\n",
    "## Wprowadzenie\n"
   ]
  },
  {
   "cell_type": "markdown",
   "id": "aa4e90a7",
   "metadata": {},
   "source": [
    "## Instalacja używanych pakietów"
   ]
  },
  {
   "cell_type": "code",
   "execution_count": 7,
   "id": "99b777a2",
   "metadata": {},
   "outputs": [],
   "source": [
    "library(ggfortify)\n",
    "library(factoextra)\n",
    "library(ggplot2)"
   ]
  },
  {
   "cell_type": "code",
   "execution_count": 8,
   "id": "51848fc5",
   "metadata": {},
   "outputs": [],
   "source": [
    "  UCI <- \"http://archive.ics.uci.edu/ml\"\n",
    "  REPOS <- \"machine-learning-databases\"\n",
    "  wine.url <- sprintf(\"http://archive.ics.uci.edu/ml/machine-learning-databases/wine/wine.data\")\n",
    "  wine <- read.csv(wine.url, header=FALSE) \n",
    "  colnames(wine) <- c('Type', 'Alcohol', 'Malic', 'Ash', \n",
    "                      'Alcalinity', 'Magnesium', 'Phenols', \n",
    "                      'Flavanoids', 'Nonflavanoids',\n",
    "                      'Proanthocyanins', 'Color', 'Hue', \n",
    "                      'Dilution', 'Proline')\n",
    "  wine$Type <- as.factor(wine$Type)"
   ]
  },
  {
   "cell_type": "code",
   "execution_count": 9,
   "id": "4c4a3a52",
   "metadata": {
    "scrolled": true
   },
   "outputs": [
    {
     "data": {
      "text/html": [
       "<style>\n",
       ".list-inline {list-style: none; margin:0; padding: 0}\n",
       ".list-inline>li {display: inline-block}\n",
       ".list-inline>li:not(:last-child)::after {content: \"\\00b7\"; padding: 0 .5ex}\n",
       "</style>\n",
       "<ol class=list-inline><li>'Type'</li><li>'Alcohol'</li><li>'Malic'</li><li>'Ash'</li><li>'Alcalinity'</li><li>'Magnesium'</li><li>'Phenols'</li><li>'Flavanoids'</li><li>'Nonflavanoids'</li><li>'Proanthocyanins'</li><li>'Color'</li><li>'Hue'</li><li>'Dilution'</li><li>'Proline'</li></ol>\n"
      ],
      "text/latex": [
       "\\begin{enumerate*}\n",
       "\\item 'Type'\n",
       "\\item 'Alcohol'\n",
       "\\item 'Malic'\n",
       "\\item 'Ash'\n",
       "\\item 'Alcalinity'\n",
       "\\item 'Magnesium'\n",
       "\\item 'Phenols'\n",
       "\\item 'Flavanoids'\n",
       "\\item 'Nonflavanoids'\n",
       "\\item 'Proanthocyanins'\n",
       "\\item 'Color'\n",
       "\\item 'Hue'\n",
       "\\item 'Dilution'\n",
       "\\item 'Proline'\n",
       "\\end{enumerate*}\n"
      ],
      "text/markdown": [
       "1. 'Type'\n",
       "2. 'Alcohol'\n",
       "3. 'Malic'\n",
       "4. 'Ash'\n",
       "5. 'Alcalinity'\n",
       "6. 'Magnesium'\n",
       "7. 'Phenols'\n",
       "8. 'Flavanoids'\n",
       "9. 'Nonflavanoids'\n",
       "10. 'Proanthocyanins'\n",
       "11. 'Color'\n",
       "12. 'Hue'\n",
       "13. 'Dilution'\n",
       "14. 'Proline'\n",
       "\n",
       "\n"
      ],
      "text/plain": [
       " [1] \"Type\"            \"Alcohol\"         \"Malic\"           \"Ash\"            \n",
       " [5] \"Alcalinity\"      \"Magnesium\"       \"Phenols\"         \"Flavanoids\"     \n",
       " [9] \"Nonflavanoids\"   \"Proanthocyanins\" \"Color\"           \"Hue\"            \n",
       "[13] \"Dilution\"        \"Proline\"        "
      ]
     },
     "metadata": {},
     "output_type": "display_data"
    }
   ],
   "source": [
    "names(wine)"
   ]
  },
  {
   "cell_type": "markdown",
   "id": "9a770718",
   "metadata": {},
   "source": [
    "<a id='DATAPROCESSING'></a>\n",
    "## Przetwarzanie danych\n"
   ]
  },
  {
   "cell_type": "code",
   "execution_count": 15,
   "id": "7abfa289",
   "metadata": {},
   "outputs": [],
   "source": [
    "library(ProjectionBasedClustering)"
   ]
  },
  {
   "cell_type": "code",
   "execution_count": 16,
   "id": "6ab4029e",
   "metadata": {},
   "outputs": [],
   "source": [
    "wine_scaled_data <- scale(wine[, 2:14])"
   ]
  },
  {
   "cell_type": "markdown",
   "id": "0b44200a",
   "metadata": {},
   "source": [
    "<a id='VISUALISATION'></a>\n",
    "## Proces wizualizacji"
   ]
  },
  {
   "cell_type": "markdown",
   "id": "269016eb",
   "metadata": {},
   "source": [
    "### NeRV"
   ]
  },
  {
   "cell_type": "code",
   "execution_count": 17,
   "id": "fd6f3992",
   "metadata": {
    "scrolled": true
   },
   "outputs": [
    {
     "name": "stdout",
     "output_type": "stream",
     "text": [
      "Using current .Random.seed as RNG seed.\n",
      "gradient 0.139699\n",
      "gradient 0.00767953\n",
      "gradient 0.0275864\n",
      "gradient 0.220998\n",
      "gradient 0.118532\n",
      "gradient 0.0651051\n",
      "gradient 0.0387987\n",
      "gradient 0.0409033\n",
      "gradient 0.0443697\n",
      "gradient 0.0670419\n",
      "gradient 0.0755749\n",
      "gradient 0.119053\n",
      "gradient 0.264892\n",
      "gradient 0.0641711\n",
      "gradient 0.0196098\n",
      "gradient 0.158541\n",
      "gradient 0.0338056\n",
      "gradient 0.021782\n",
      "gradient 1.41086\n",
      "gradient 0.521228\n",
      "gradient 0.251484\n",
      "gradient 13.4132\n",
      "gradient 12.207\n",
      "gradient 9.69476\n",
      "gradient 130.929\n",
      "gradient 108.137\n",
      "gradient 134.443\n",
      "gradient 195.748\n",
      "gradient 107.185\n",
      "gradient 92.7024\n",
      "gradient 70.28\n",
      "gradient 42.9019\n",
      "gradient 32.605\n",
      "gradient 44.1317\n",
      "gradient 49.1708\n",
      "gradient 42.3085\n",
      "gradient 18.4806\n",
      "gradient 16.2563\n",
      "gradient 15.8657\n",
      "gradient 14.4629\n",
      "gradient 11.8763\n",
      "gradient 6.17793\n",
      "gradient 4.3129\n",
      "gradient 3.43974\n",
      "gradient 3.88794\n",
      "gradient 3.23156\n",
      "gradient 2.9737\n",
      "gradient 2.84898\n",
      "gradient 3.44869\n",
      "gradient 3.09239\n",
      "gradient 2.9628\n",
      "gradient 3.70761\n",
      "gradient 2.77478\n",
      "gradient 2.59718\n",
      "gradient 2.22248\n",
      "gradient 2.14601\n",
      "gradient 2.384\n",
      "gradient 2.3224\n",
      "gradient 2.08228\n",
      "gradient 2.06423\n",
      "gradient 1.76951\n",
      "gradient 1.59993\n",
      "gradient 1.4506\n",
      "gradient 1.53329\n",
      "gradient 1.62275\n",
      "gradient 1.35686\n",
      "gradient 1.25419\n",
      "gradient 1.00859\n",
      "gradient 1.10633\n",
      "gradient 1.17008\n",
      "gradient 1.58719\n"
     ]
    }
   ],
   "source": [
    "set.seed(1465)\n",
    "nerv_res <- NeRV(wine_scaled_data)\n",
    "\n",
    "# Frame output data\n",
    "nerv_res_data_frame <- as.data.frame(nerv_res)"
   ]
  },
  {
   "cell_type": "code",
   "execution_count": 18,
   "id": "f2d88cb5",
   "metadata": {},
   "outputs": [
    {
     "data": {
      "image/png": "[encoded data removed]",
      "text/plain": [
       "plot without title"
      ]
     },
     "metadata": {
      "image/png": {
       "height": 420,
       "width": 420
      }
     },
     "output_type": "display_data"
    },
    {
     "data": {
      "image/png": "[encoded data removed]",
      "text/plain": [
       "plot without title"
      ]
     },
     "metadata": {
      "image/png": {
       "height": 420,
       "width": 420
      }
     },
     "output_type": "display_data"
    }
   ],
   "source": [
    "PlotProjectedPoints(nerv_res, as.numeric(wine$Type))"
   ]
  },
  {
   "cell_type": "markdown",
   "id": "4ba7c616",
   "metadata": {},
   "source": [
    "<a id='KMEANS'></a>\n",
    "# Kmeans"
   ]
  },
  {
   "cell_type": "markdown",
   "id": "1b7797cd",
   "metadata": {},
   "source": [
    "Proces klasteryzacji danych został przeprowadzony przy pomocy algorytmu k-średnich. Wykorzystany do tego został pakiet `factoextra`. Do oceny jakości uzyskanych w procesie klasteryzacji wyników wykorzystano pakiet `clValid`."
   ]
  },
  {
   "cell_type": "code",
   "execution_count": 19,
   "id": "09d336a0",
   "metadata": {},
   "outputs": [],
   "source": [
    "library(\"factoextra\")\n",
    "library(clValid)"
   ]
  },
  {
   "cell_type": "markdown",
   "id": "aa05d851",
   "metadata": {},
   "source": [
    "Jako liczbę centroidów (klastrów) przyjęto 3, gdyż tyle wynosi liczba klas w analizowanym zbiorze. Do określenia liczby klastrów można wykorzystać byłoby także metodę łokciową."
   ]
  },
  {
   "cell_type": "code",
   "execution_count": 20,
   "id": "31f68cdb",
   "metadata": {},
   "outputs": [
    {
     "data": {
      "text/html": [
       "<style>\n",
       ".list-inline {list-style: none; margin:0; padding: 0}\n",
       ".list-inline>li {display: inline-block}\n",
       ".list-inline>li:not(:last-child)::after {content: \"\\00b7\"; padding: 0 .5ex}\n",
       "</style>\n",
       "<ol class=list-inline><li>2</li><li>2</li><li>2</li><li>2</li><li>2</li><li>2</li><li>2</li><li>2</li><li>2</li><li>2</li><li>2</li><li>2</li><li>2</li><li>2</li><li>2</li><li>2</li><li>2</li><li>2</li><li>2</li><li>2</li><li>2</li><li>2</li><li>2</li><li>2</li><li>2</li><li>2</li><li>2</li><li>2</li><li>2</li><li>2</li><li>2</li><li>2</li><li>2</li><li>2</li><li>2</li><li>2</li><li>2</li><li>2</li><li>2</li><li>2</li><li>2</li><li>2</li><li>2</li><li>2</li><li>2</li><li>2</li><li>2</li><li>2</li><li>2</li><li>2</li><li>2</li><li>2</li><li>2</li><li>2</li><li>2</li><li>2</li><li>2</li><li>2</li><li>2</li><li>3</li><li>1</li><li>1</li><li>3</li><li>3</li><li>3</li><li>2</li><li>3</li><li>3</li><li>1</li><li>3</li><li>1</li><li>2</li><li>3</li><li>2</li><li>3</li><li>3</li><li>3</li><li>1</li><li>3</li><li>3</li><li>3</li><li>3</li><li>3</li><li>1</li><li>3</li><li>3</li><li>3</li><li>3</li><li>3</li><li>3</li><li>3</li><li>3</li><li>3</li><li>3</li><li>3</li><li>3</li><li>1</li><li>3</li><li>3</li><li>3</li><li>3</li><li>3</li><li>3</li><li>3</li><li>3</li><li>3</li><li>3</li><li>3</li><li>3</li><li>3</li><li>2</li><li>3</li><li>3</li><li>3</li><li>3</li><li>3</li><li>3</li><li>3</li><li>1</li><li>3</li><li>3</li><li>2</li><li>3</li><li>2</li><li>3</li><li>3</li><li>3</li><li>3</li><li>3</li><li>3</li><li>1</li><li>1</li><li>1</li><li>1</li><li>1</li><li>1</li><li>1</li><li>1</li><li>1</li><li>1</li><li>1</li><li>1</li><li>1</li><li>1</li><li>1</li><li>1</li><li>1</li><li>1</li><li>1</li><li>1</li><li>1</li><li>1</li><li>1</li><li>1</li><li>1</li><li>1</li><li>1</li><li>1</li><li>1</li><li>1</li><li>1</li><li>1</li><li>1</li><li>1</li><li>1</li><li>1</li><li>1</li><li>1</li><li>1</li><li>1</li><li>1</li><li>1</li><li>1</li><li>1</li><li>1</li><li>1</li><li>1</li><li>1</li></ol>\n"
      ],
      "text/latex": [
       "\\begin{enumerate*}\n",
       "\\item 2\n",
       "\\item 2\n",
       "\\item 2\n",
       "\\item 2\n",
       "\\item 2\n",
       "\\item 2\n",
       "\\item 2\n",
       "\\item 2\n",
       "\\item 2\n",
       "\\item 2\n",
       "\\item 2\n",
       "\\item 2\n",
       "\\item 2\n",
       "\\item 2\n",
       "\\item 2\n",
       "\\item 2\n",
       "\\item 2\n",
       "\\item 2\n",
       "\\item 2\n",
       "\\item 2\n",
       "\\item 2\n",
       "\\item 2\n",
       "\\item 2\n",
       "\\item 2\n",
       "\\item 2\n",
       "\\item 2\n",
       "\\item 2\n",
       "\\item 2\n",
       "\\item 2\n",
       "\\item 2\n",
       "\\item 2\n",
       "\\item 2\n",
       "\\item 2\n",
       "\\item 2\n",
       "\\item 2\n",
       "\\item 2\n",
       "\\item 2\n",
       "\\item 2\n",
       "\\item 2\n",
       "\\item 2\n",
       "\\item 2\n",
       "\\item 2\n",
       "\\item 2\n",
       "\\item 2\n",
       "\\item 2\n",
       "\\item 2\n",
       "\\item 2\n",
       "\\item 2\n",
       "\\item 2\n",
       "\\item 2\n",
       "\\item 2\n",
       "\\item 2\n",
       "\\item 2\n",
       "\\item 2\n",
       "\\item 2\n",
       "\\item 2\n",
       "\\item 2\n",
       "\\item 2\n",
       "\\item 2\n",
       "\\item 3\n",
       "\\item 1\n",
       "\\item 1\n",
       "\\item 3\n",
       "\\item 3\n",
       "\\item 3\n",
       "\\item 2\n",
       "\\item 3\n",
       "\\item 3\n",
       "\\item 1\n",
       "\\item 3\n",
       "\\item 1\n",
       "\\item 2\n",
       "\\item 3\n",
       "\\item 2\n",
       "\\item 3\n",
       "\\item 3\n",
       "\\item 3\n",
       "\\item 1\n",
       "\\item 3\n",
       "\\item 3\n",
       "\\item 3\n",
       "\\item 3\n",
       "\\item 3\n",
       "\\item 1\n",
       "\\item 3\n",
       "\\item 3\n",
       "\\item 3\n",
       "\\item 3\n",
       "\\item 3\n",
       "\\item 3\n",
       "\\item 3\n",
       "\\item 3\n",
       "\\item 3\n",
       "\\item 3\n",
       "\\item 3\n",
       "\\item 3\n",
       "\\item 1\n",
       "\\item 3\n",
       "\\item 3\n",
       "\\item 3\n",
       "\\item 3\n",
       "\\item 3\n",
       "\\item 3\n",
       "\\item 3\n",
       "\\item 3\n",
       "\\item 3\n",
       "\\item 3\n",
       "\\item 3\n",
       "\\item 3\n",
       "\\item 3\n",
       "\\item 2\n",
       "\\item 3\n",
       "\\item 3\n",
       "\\item 3\n",
       "\\item 3\n",
       "\\item 3\n",
       "\\item 3\n",
       "\\item 3\n",
       "\\item 1\n",
       "\\item 3\n",
       "\\item 3\n",
       "\\item 2\n",
       "\\item 3\n",
       "\\item 2\n",
       "\\item 3\n",
       "\\item 3\n",
       "\\item 3\n",
       "\\item 3\n",
       "\\item 3\n",
       "\\item 3\n",
       "\\item 1\n",
       "\\item 1\n",
       "\\item 1\n",
       "\\item 1\n",
       "\\item 1\n",
       "\\item 1\n",
       "\\item 1\n",
       "\\item 1\n",
       "\\item 1\n",
       "\\item 1\n",
       "\\item 1\n",
       "\\item 1\n",
       "\\item 1\n",
       "\\item 1\n",
       "\\item 1\n",
       "\\item 1\n",
       "\\item 1\n",
       "\\item 1\n",
       "\\item 1\n",
       "\\item 1\n",
       "\\item 1\n",
       "\\item 1\n",
       "\\item 1\n",
       "\\item 1\n",
       "\\item 1\n",
       "\\item 1\n",
       "\\item 1\n",
       "\\item 1\n",
       "\\item 1\n",
       "\\item 1\n",
       "\\item 1\n",
       "\\item 1\n",
       "\\item 1\n",
       "\\item 1\n",
       "\\item 1\n",
       "\\item 1\n",
       "\\item 1\n",
       "\\item 1\n",
       "\\item 1\n",
       "\\item 1\n",
       "\\item 1\n",
       "\\item 1\n",
       "\\item 1\n",
       "\\item 1\n",
       "\\item 1\n",
       "\\item 1\n",
       "\\item 1\n",
       "\\item 1\n",
       "\\end{enumerate*}\n"
      ],
      "text/markdown": [
       "1. 2\n",
       "2. 2\n",
       "3. 2\n",
       "4. 2\n",
       "5. 2\n",
       "6. 2\n",
       "7. 2\n",
       "8. 2\n",
       "9. 2\n",
       "10. 2\n",
       "11. 2\n",
       "12. 2\n",
       "13. 2\n",
       "14. 2\n",
       "15. 2\n",
       "16. 2\n",
       "17. 2\n",
       "18. 2\n",
       "19. 2\n",
       "20. 2\n",
       "21. 2\n",
       "22. 2\n",
       "23. 2\n",
       "24. 2\n",
       "25. 2\n",
       "26. 2\n",
       "27. 2\n",
       "28. 2\n",
       "29. 2\n",
       "30. 2\n",
       "31. 2\n",
       "32. 2\n",
       "33. 2\n",
       "34. 2\n",
       "35. 2\n",
       "36. 2\n",
       "37. 2\n",
       "38. 2\n",
       "39. 2\n",
       "40. 2\n",
       "41. 2\n",
       "42. 2\n",
       "43. 2\n",
       "44. 2\n",
       "45. 2\n",
       "46. 2\n",
       "47. 2\n",
       "48. 2\n",
       "49. 2\n",
       "50. 2\n",
       "51. 2\n",
       "52. 2\n",
       "53. 2\n",
       "54. 2\n",
       "55. 2\n",
       "56. 2\n",
       "57. 2\n",
       "58. 2\n",
       "59. 2\n",
       "60. 3\n",
       "61. 1\n",
       "62. 1\n",
       "63. 3\n",
       "64. 3\n",
       "65. 3\n",
       "66. 2\n",
       "67. 3\n",
       "68. 3\n",
       "69. 1\n",
       "70. 3\n",
       "71. 1\n",
       "72. 2\n",
       "73. 3\n",
       "74. 2\n",
       "75. 3\n",
       "76. 3\n",
       "77. 3\n",
       "78. 1\n",
       "79. 3\n",
       "80. 3\n",
       "81. 3\n",
       "82. 3\n",
       "83. 3\n",
       "84. 1\n",
       "85. 3\n",
       "86. 3\n",
       "87. 3\n",
       "88. 3\n",
       "89. 3\n",
       "90. 3\n",
       "91. 3\n",
       "92. 3\n",
       "93. 3\n",
       "94. 3\n",
       "95. 3\n",
       "96. 3\n",
       "97. 1\n",
       "98. 3\n",
       "99. 3\n",
       "100. 3\n",
       "101. 3\n",
       "102. 3\n",
       "103. 3\n",
       "104. 3\n",
       "105. 3\n",
       "106. 3\n",
       "107. 3\n",
       "108. 3\n",
       "109. 3\n",
       "110. 3\n",
       "111. 2\n",
       "112. 3\n",
       "113. 3\n",
       "114. 3\n",
       "115. 3\n",
       "116. 3\n",
       "117. 3\n",
       "118. 3\n",
       "119. 1\n",
       "120. 3\n",
       "121. 3\n",
       "122. 2\n",
       "123. 3\n",
       "124. 2\n",
       "125. 3\n",
       "126. 3\n",
       "127. 3\n",
       "128. 3\n",
       "129. 3\n",
       "130. 3\n",
       "131. 1\n",
       "132. 1\n",
       "133. 1\n",
       "134. 1\n",
       "135. 1\n",
       "136. 1\n",
       "137. 1\n",
       "138. 1\n",
       "139. 1\n",
       "140. 1\n",
       "141. 1\n",
       "142. 1\n",
       "143. 1\n",
       "144. 1\n",
       "145. 1\n",
       "146. 1\n",
       "147. 1\n",
       "148. 1\n",
       "149. 1\n",
       "150. 1\n",
       "151. 1\n",
       "152. 1\n",
       "153. 1\n",
       "154. 1\n",
       "155. 1\n",
       "156. 1\n",
       "157. 1\n",
       "158. 1\n",
       "159. 1\n",
       "160. 1\n",
       "161. 1\n",
       "162. 1\n",
       "163. 1\n",
       "164. 1\n",
       "165. 1\n",
       "166. 1\n",
       "167. 1\n",
       "168. 1\n",
       "169. 1\n",
       "170. 1\n",
       "171. 1\n",
       "172. 1\n",
       "173. 1\n",
       "174. 1\n",
       "175. 1\n",
       "176. 1\n",
       "177. 1\n",
       "178. 1\n",
       "\n",
       "\n"
      ],
      "text/plain": [
       "  [1] 2 2 2 2 2 2 2 2 2 2 2 2 2 2 2 2 2 2 2 2 2 2 2 2 2 2 2 2 2 2 2 2 2 2 2 2 2\n",
       " [38] 2 2 2 2 2 2 2 2 2 2 2 2 2 2 2 2 2 2 2 2 2 2 3 1 1 3 3 3 2 3 3 1 3 1 2 3 2\n",
       " [75] 3 3 3 1 3 3 3 3 3 1 3 3 3 3 3 3 3 3 3 3 3 3 1 3 3 3 3 3 3 3 3 3 3 3 3 3 2\n",
       "[112] 3 3 3 3 3 3 3 1 3 3 2 3 2 3 3 3 3 3 3 1 1 1 1 1 1 1 1 1 1 1 1 1 1 1 1 1 1\n",
       "[149] 1 1 1 1 1 1 1 1 1 1 1 1 1 1 1 1 1 1 1 1 1 1 1 1 1 1 1 1 1 1"
      ]
     },
     "metadata": {},
     "output_type": "display_data"
    }
   ],
   "source": [
    "# Compute k-means with k = 3\n",
    "set.seed(123)\n",
    "wine_scale_data = scale(nerv_res_data_frame[,1:2]) \n",
    "wine_not_scale_data = nerv_res_data_frame[,1:2]\n",
    "kmeans_scale <- kmeans(wine_scale_data, 3, nstart = 25)\n",
    "kmeans_not_scale <- kmeans(wine_not_scale_data, 3, nstart = 25)\n",
    "# K-means clusters showing the group of each individuals\n",
    "kmeans_scale$cluster"
   ]
  },
  {
   "cell_type": "code",
   "execution_count": 21,
   "id": "de5ad805",
   "metadata": {
    "scrolled": false
   },
   "outputs": [
    {
     "data": {
      "image/png": "[encoded data removed]",
      "text/plain": [
       "Plot with title “2D representation of the Cluster”"
      ]
     },
     "metadata": {
      "image/png": {
       "height": 420,
       "width": 420
      }
     },
     "output_type": "display_data"
    }
   ],
   "source": [
    "clusplot(wine_scale_data, kmeans_scale$cluster, main='2D representation of the Cluster',\n",
    "         color=TRUE, shade=TRUE,\n",
    "         lines=0)"
   ]
  },
  {
   "cell_type": "code",
   "execution_count": 22,
   "id": "1ea1e1dd",
   "metadata": {},
   "outputs": [
    {
     "data": {
      "image/png": "[encoded data removed]",
      "text/plain": [
       "plot without title"
      ]
     },
     "metadata": {
      "image/png": {
       "height": 420,
       "width": 420
      }
     },
     "output_type": "display_data"
    }
   ],
   "source": [
    "fviz_cluster(object = kmeans_scale, # kmeans object \n",
    "             data = wine_scale_data, # data used for clustering\n",
    "             ellipse.type = \"norm\",\n",
    "             geom = \"point\",\n",
    "             palette = \"jco\",\n",
    "             main = \"\",\n",
    "             ggtheme = theme_minimal())"
   ]
  },
  {
   "cell_type": "markdown",
   "id": "01525ac3",
   "metadata": {},
   "source": [
    "## Index dunna"
   ]
  },
  {
   "cell_type": "markdown",
   "id": "6c74d655",
   "metadata": {},
   "source": [
    "Jako indeks wewnętrzny do oceny wyników klasteryzacji wykorzystaliśmy indeks Dunna. Jest to ocena wewnętrzna, gdyż przeprowadzona została na podstawie danych poddanych grupowaniu z użyciem funkcji oceny.\n",
    "\n",
    "Oczekiwana jest mała odległość wewnątrz grupy (mianownik mały) i duża odległość pomiędzy grupami, stąd większe wartości są lepsze."
   ]
  },
  {
   "cell_type": "code",
   "execution_count": 23,
   "id": "7c7d8630",
   "metadata": {},
   "outputs": [
    {
     "data": {
      "text/html": [
       "0.0986222363581578"
      ],
      "text/latex": [
       "0.0986222363581578"
      ],
      "text/markdown": [
       "0.0986222363581578"
      ],
      "text/plain": [
       "[1] 0.09862224"
      ]
     },
     "metadata": {},
     "output_type": "display_data"
    }
   ],
   "source": [
    "dunn(clusters = kmeans_scale$cluster, Data = wine_scale_data)"
   ]
  },
  {
   "cell_type": "markdown",
   "id": "cc38d35a",
   "metadata": {},
   "source": [
    "Uzyskana wartość indeksu byłaby wyższa, gdyby obserwacje wewnątrz klastrów były bardziej skupione. Odległości między grupami nie są duże, grupy częściowo się pokrywają, stąd stosunkowo niska wartość wskaźnika wewnętrznego."
   ]
  },
  {
   "cell_type": "code",
   "execution_count": 24,
   "id": "71b32bf0",
   "metadata": {},
   "outputs": [
    {
     "data": {
      "text/html": [
       "0.0706302186486975"
      ],
      "text/latex": [
       "0.0706302186486975"
      ],
      "text/markdown": [
       "0.0706302186486975"
      ],
      "text/plain": [
       "[1] 0.07063022"
      ]
     },
     "metadata": {},
     "output_type": "display_data"
    }
   ],
   "source": [
    "dunn(clusters = kmeans_not_scale$cluster, Data = wine_not_scale_data)"
   ]
  },
  {
   "cell_type": "markdown",
   "id": "73ab2e7c",
   "metadata": {},
   "source": [
    "# Ocena klasteryzacji - index zewnętrzny"
   ]
  },
  {
   "cell_type": "markdown",
   "id": "dc5e5071",
   "metadata": {},
   "source": [
    "Oceny klasteryzacji dokonano tekże przy pomocy indeksu zewnętrznego, czyli dokonano oceny na podstawie danych które nie były użyte do grupowania w postaci znanych etykiet klas reprezentującyh ground truth (zmienna objaśniana)."
   ]
  },
  {
   "cell_type": "code",
   "execution_count": 25,
   "id": "ba6d0a17",
   "metadata": {},
   "outputs": [
    {
     "data": {
      "text/html": [
       "<style>\n",
       ".list-inline {list-style: none; margin:0; padding: 0}\n",
       ".list-inline>li {display: inline-block}\n",
       ".list-inline>li:not(:last-child)::after {content: \"\\00b7\"; padding: 0 .5ex}\n",
       "</style>\n",
       "<ol class=list-inline><li>2</li><li>2</li><li>2</li><li>2</li><li>2</li><li>2</li><li>2</li><li>2</li><li>2</li><li>2</li><li>2</li><li>2</li><li>2</li><li>2</li><li>2</li><li>2</li><li>2</li><li>2</li><li>2</li><li>2</li><li>2</li><li>2</li><li>2</li><li>2</li><li>2</li><li>2</li><li>2</li><li>2</li><li>2</li><li>2</li><li>2</li><li>2</li><li>2</li><li>2</li><li>2</li><li>2</li><li>2</li><li>2</li><li>2</li><li>2</li><li>2</li><li>2</li><li>2</li><li>2</li><li>2</li><li>2</li><li>2</li><li>2</li><li>2</li><li>2</li><li>2</li><li>2</li><li>2</li><li>2</li><li>2</li><li>2</li><li>2</li><li>2</li><li>2</li><li>3</li><li>1</li><li>1</li><li>3</li><li>3</li><li>3</li><li>2</li><li>3</li><li>3</li><li>1</li><li>3</li><li>1</li><li>2</li><li>3</li><li>2</li><li>3</li><li>3</li><li>3</li><li>1</li><li>3</li><li>3</li><li>3</li><li>3</li><li>3</li><li>1</li><li>3</li><li>3</li><li>3</li><li>3</li><li>3</li><li>3</li><li>3</li><li>3</li><li>3</li><li>3</li><li>3</li><li>3</li><li>1</li><li>3</li><li>3</li><li>3</li><li>3</li><li>3</li><li>3</li><li>3</li><li>3</li><li>3</li><li>3</li><li>3</li><li>3</li><li>3</li><li>2</li><li>3</li><li>3</li><li>3</li><li>3</li><li>3</li><li>3</li><li>3</li><li>1</li><li>3</li><li>3</li><li>2</li><li>3</li><li>2</li><li>3</li><li>3</li><li>3</li><li>3</li><li>3</li><li>3</li><li>1</li><li>1</li><li>1</li><li>1</li><li>1</li><li>1</li><li>1</li><li>1</li><li>1</li><li>1</li><li>1</li><li>1</li><li>1</li><li>1</li><li>1</li><li>1</li><li>1</li><li>1</li><li>1</li><li>1</li><li>1</li><li>1</li><li>1</li><li>1</li><li>1</li><li>1</li><li>1</li><li>1</li><li>1</li><li>1</li><li>1</li><li>1</li><li>1</li><li>1</li><li>1</li><li>1</li><li>1</li><li>1</li><li>1</li><li>1</li><li>1</li><li>1</li><li>1</li><li>1</li><li>1</li><li>1</li><li>1</li><li>1</li></ol>\n"
      ],
      "text/latex": [
       "\\begin{enumerate*}\n",
       "\\item 2\n",
       "\\item 2\n",
       "\\item 2\n",
       "\\item 2\n",
       "\\item 2\n",
       "\\item 2\n",
       "\\item 2\n",
       "\\item 2\n",
       "\\item 2\n",
       "\\item 2\n",
       "\\item 2\n",
       "\\item 2\n",
       "\\item 2\n",
       "\\item 2\n",
       "\\item 2\n",
       "\\item 2\n",
       "\\item 2\n",
       "\\item 2\n",
       "\\item 2\n",
       "\\item 2\n",
       "\\item 2\n",
       "\\item 2\n",
       "\\item 2\n",
       "\\item 2\n",
       "\\item 2\n",
       "\\item 2\n",
       "\\item 2\n",
       "\\item 2\n",
       "\\item 2\n",
       "\\item 2\n",
       "\\item 2\n",
       "\\item 2\n",
       "\\item 2\n",
       "\\item 2\n",
       "\\item 2\n",
       "\\item 2\n",
       "\\item 2\n",
       "\\item 2\n",
       "\\item 2\n",
       "\\item 2\n",
       "\\item 2\n",
       "\\item 2\n",
       "\\item 2\n",
       "\\item 2\n",
       "\\item 2\n",
       "\\item 2\n",
       "\\item 2\n",
       "\\item 2\n",
       "\\item 2\n",
       "\\item 2\n",
       "\\item 2\n",
       "\\item 2\n",
       "\\item 2\n",
       "\\item 2\n",
       "\\item 2\n",
       "\\item 2\n",
       "\\item 2\n",
       "\\item 2\n",
       "\\item 2\n",
       "\\item 3\n",
       "\\item 1\n",
       "\\item 1\n",
       "\\item 3\n",
       "\\item 3\n",
       "\\item 3\n",
       "\\item 2\n",
       "\\item 3\n",
       "\\item 3\n",
       "\\item 1\n",
       "\\item 3\n",
       "\\item 1\n",
       "\\item 2\n",
       "\\item 3\n",
       "\\item 2\n",
       "\\item 3\n",
       "\\item 3\n",
       "\\item 3\n",
       "\\item 1\n",
       "\\item 3\n",
       "\\item 3\n",
       "\\item 3\n",
       "\\item 3\n",
       "\\item 3\n",
       "\\item 1\n",
       "\\item 3\n",
       "\\item 3\n",
       "\\item 3\n",
       "\\item 3\n",
       "\\item 3\n",
       "\\item 3\n",
       "\\item 3\n",
       "\\item 3\n",
       "\\item 3\n",
       "\\item 3\n",
       "\\item 3\n",
       "\\item 3\n",
       "\\item 1\n",
       "\\item 3\n",
       "\\item 3\n",
       "\\item 3\n",
       "\\item 3\n",
       "\\item 3\n",
       "\\item 3\n",
       "\\item 3\n",
       "\\item 3\n",
       "\\item 3\n",
       "\\item 3\n",
       "\\item 3\n",
       "\\item 3\n",
       "\\item 3\n",
       "\\item 2\n",
       "\\item 3\n",
       "\\item 3\n",
       "\\item 3\n",
       "\\item 3\n",
       "\\item 3\n",
       "\\item 3\n",
       "\\item 3\n",
       "\\item 1\n",
       "\\item 3\n",
       "\\item 3\n",
       "\\item 2\n",
       "\\item 3\n",
       "\\item 2\n",
       "\\item 3\n",
       "\\item 3\n",
       "\\item 3\n",
       "\\item 3\n",
       "\\item 3\n",
       "\\item 3\n",
       "\\item 1\n",
       "\\item 1\n",
       "\\item 1\n",
       "\\item 1\n",
       "\\item 1\n",
       "\\item 1\n",
       "\\item 1\n",
       "\\item 1\n",
       "\\item 1\n",
       "\\item 1\n",
       "\\item 1\n",
       "\\item 1\n",
       "\\item 1\n",
       "\\item 1\n",
       "\\item 1\n",
       "\\item 1\n",
       "\\item 1\n",
       "\\item 1\n",
       "\\item 1\n",
       "\\item 1\n",
       "\\item 1\n",
       "\\item 1\n",
       "\\item 1\n",
       "\\item 1\n",
       "\\item 1\n",
       "\\item 1\n",
       "\\item 1\n",
       "\\item 1\n",
       "\\item 1\n",
       "\\item 1\n",
       "\\item 1\n",
       "\\item 1\n",
       "\\item 1\n",
       "\\item 1\n",
       "\\item 1\n",
       "\\item 1\n",
       "\\item 1\n",
       "\\item 1\n",
       "\\item 1\n",
       "\\item 1\n",
       "\\item 1\n",
       "\\item 1\n",
       "\\item 1\n",
       "\\item 1\n",
       "\\item 1\n",
       "\\item 1\n",
       "\\item 1\n",
       "\\item 1\n",
       "\\end{enumerate*}\n"
      ],
      "text/markdown": [
       "1. 2\n",
       "2. 2\n",
       "3. 2\n",
       "4. 2\n",
       "5. 2\n",
       "6. 2\n",
       "7. 2\n",
       "8. 2\n",
       "9. 2\n",
       "10. 2\n",
       "11. 2\n",
       "12. 2\n",
       "13. 2\n",
       "14. 2\n",
       "15. 2\n",
       "16. 2\n",
       "17. 2\n",
       "18. 2\n",
       "19. 2\n",
       "20. 2\n",
       "21. 2\n",
       "22. 2\n",
       "23. 2\n",
       "24. 2\n",
       "25. 2\n",
       "26. 2\n",
       "27. 2\n",
       "28. 2\n",
       "29. 2\n",
       "30. 2\n",
       "31. 2\n",
       "32. 2\n",
       "33. 2\n",
       "34. 2\n",
       "35. 2\n",
       "36. 2\n",
       "37. 2\n",
       "38. 2\n",
       "39. 2\n",
       "40. 2\n",
       "41. 2\n",
       "42. 2\n",
       "43. 2\n",
       "44. 2\n",
       "45. 2\n",
       "46. 2\n",
       "47. 2\n",
       "48. 2\n",
       "49. 2\n",
       "50. 2\n",
       "51. 2\n",
       "52. 2\n",
       "53. 2\n",
       "54. 2\n",
       "55. 2\n",
       "56. 2\n",
       "57. 2\n",
       "58. 2\n",
       "59. 2\n",
       "60. 3\n",
       "61. 1\n",
       "62. 1\n",
       "63. 3\n",
       "64. 3\n",
       "65. 3\n",
       "66. 2\n",
       "67. 3\n",
       "68. 3\n",
       "69. 1\n",
       "70. 3\n",
       "71. 1\n",
       "72. 2\n",
       "73. 3\n",
       "74. 2\n",
       "75. 3\n",
       "76. 3\n",
       "77. 3\n",
       "78. 1\n",
       "79. 3\n",
       "80. 3\n",
       "81. 3\n",
       "82. 3\n",
       "83. 3\n",
       "84. 1\n",
       "85. 3\n",
       "86. 3\n",
       "87. 3\n",
       "88. 3\n",
       "89. 3\n",
       "90. 3\n",
       "91. 3\n",
       "92. 3\n",
       "93. 3\n",
       "94. 3\n",
       "95. 3\n",
       "96. 3\n",
       "97. 1\n",
       "98. 3\n",
       "99. 3\n",
       "100. 3\n",
       "101. 3\n",
       "102. 3\n",
       "103. 3\n",
       "104. 3\n",
       "105. 3\n",
       "106. 3\n",
       "107. 3\n",
       "108. 3\n",
       "109. 3\n",
       "110. 3\n",
       "111. 2\n",
       "112. 3\n",
       "113. 3\n",
       "114. 3\n",
       "115. 3\n",
       "116. 3\n",
       "117. 3\n",
       "118. 3\n",
       "119. 1\n",
       "120. 3\n",
       "121. 3\n",
       "122. 2\n",
       "123. 3\n",
       "124. 2\n",
       "125. 3\n",
       "126. 3\n",
       "127. 3\n",
       "128. 3\n",
       "129. 3\n",
       "130. 3\n",
       "131. 1\n",
       "132. 1\n",
       "133. 1\n",
       "134. 1\n",
       "135. 1\n",
       "136. 1\n",
       "137. 1\n",
       "138. 1\n",
       "139. 1\n",
       "140. 1\n",
       "141. 1\n",
       "142. 1\n",
       "143. 1\n",
       "144. 1\n",
       "145. 1\n",
       "146. 1\n",
       "147. 1\n",
       "148. 1\n",
       "149. 1\n",
       "150. 1\n",
       "151. 1\n",
       "152. 1\n",
       "153. 1\n",
       "154. 1\n",
       "155. 1\n",
       "156. 1\n",
       "157. 1\n",
       "158. 1\n",
       "159. 1\n",
       "160. 1\n",
       "161. 1\n",
       "162. 1\n",
       "163. 1\n",
       "164. 1\n",
       "165. 1\n",
       "166. 1\n",
       "167. 1\n",
       "168. 1\n",
       "169. 1\n",
       "170. 1\n",
       "171. 1\n",
       "172. 1\n",
       "173. 1\n",
       "174. 1\n",
       "175. 1\n",
       "176. 1\n",
       "177. 1\n",
       "178. 1\n",
       "\n",
       "\n"
      ],
      "text/plain": [
       "  [1] 2 2 2 2 2 2 2 2 2 2 2 2 2 2 2 2 2 2 2 2 2 2 2 2 2 2 2 2 2 2 2 2 2 2 2 2 2\n",
       " [38] 2 2 2 2 2 2 2 2 2 2 2 2 2 2 2 2 2 2 2 2 2 2 3 1 1 3 3 3 2 3 3 1 3 1 2 3 2\n",
       " [75] 3 3 3 1 3 3 3 3 3 1 3 3 3 3 3 3 3 3 3 3 3 3 1 3 3 3 3 3 3 3 3 3 3 3 3 3 2\n",
       "[112] 3 3 3 3 3 3 3 1 3 3 2 3 2 3 3 3 3 3 3 1 1 1 1 1 1 1 1 1 1 1 1 1 1 1 1 1 1\n",
       "[149] 1 1 1 1 1 1 1 1 1 1 1 1 1 1 1 1 1 1 1 1 1 1 1 1 1 1 1 1 1 1"
      ]
     },
     "metadata": {},
     "output_type": "display_data"
    }
   ],
   "source": [
    "kmeans_scale$cluster"
   ]
  },
  {
   "cell_type": "markdown",
   "id": "6e2968e7",
   "metadata": {},
   "source": [
    "Etykiety klastrów zostały dostosowane do etykiet ze zbioru danych `wines`."
   ]
  },
  {
   "cell_type": "code",
   "execution_count": 26,
   "id": "bd5502b3",
   "metadata": {},
   "outputs": [
    {
     "data": {
      "text/html": [
       "<style>\n",
       ".list-inline {list-style: none; margin:0; padding: 0}\n",
       ".list-inline>li {display: inline-block}\n",
       ".list-inline>li:not(:last-child)::after {content: \"\\00b7\"; padding: 0 .5ex}\n",
       "</style>\n",
       "<ol class=list-inline><li>1</li><li>1</li><li>1</li><li>1</li><li>1</li><li>1</li><li>1</li><li>1</li><li>1</li><li>1</li><li>1</li><li>1</li><li>1</li><li>1</li><li>1</li><li>1</li><li>1</li><li>1</li><li>1</li><li>1</li><li>1</li><li>1</li><li>1</li><li>1</li><li>1</li><li>1</li><li>1</li><li>1</li><li>1</li><li>1</li><li>1</li><li>1</li><li>1</li><li>1</li><li>1</li><li>1</li><li>1</li><li>1</li><li>1</li><li>1</li><li>1</li><li>1</li><li>1</li><li>1</li><li>1</li><li>1</li><li>1</li><li>1</li><li>1</li><li>1</li><li>1</li><li>1</li><li>1</li><li>1</li><li>1</li><li>1</li><li>1</li><li>1</li><li>1</li><li>2</li><li>3</li><li>3</li><li>2</li><li>2</li><li>2</li><li>1</li><li>2</li><li>2</li><li>3</li><li>2</li><li>3</li><li>1</li><li>2</li><li>1</li><li>2</li><li>2</li><li>2</li><li>3</li><li>2</li><li>2</li><li>2</li><li>2</li><li>2</li><li>3</li><li>2</li><li>2</li><li>2</li><li>2</li><li>2</li><li>2</li><li>2</li><li>2</li><li>2</li><li>2</li><li>2</li><li>2</li><li>3</li><li>2</li><li>2</li><li>2</li><li>2</li><li>2</li><li>2</li><li>2</li><li>2</li><li>2</li><li>2</li><li>2</li><li>2</li><li>2</li><li>1</li><li>2</li><li>2</li><li>2</li><li>2</li><li>2</li><li>2</li><li>2</li><li>3</li><li>2</li><li>2</li><li>1</li><li>2</li><li>1</li><li>2</li><li>2</li><li>2</li><li>2</li><li>2</li><li>2</li><li>3</li><li>3</li><li>3</li><li>3</li><li>3</li><li>3</li><li>3</li><li>3</li><li>3</li><li>3</li><li>3</li><li>3</li><li>3</li><li>3</li><li>3</li><li>3</li><li>3</li><li>3</li><li>3</li><li>3</li><li>3</li><li>3</li><li>3</li><li>3</li><li>3</li><li>3</li><li>3</li><li>3</li><li>3</li><li>3</li><li>3</li><li>3</li><li>3</li><li>3</li><li>3</li><li>3</li><li>3</li><li>3</li><li>3</li><li>3</li><li>3</li><li>3</li><li>3</li><li>3</li><li>3</li><li>3</li><li>3</li><li>3</li></ol>\n"
      ],
      "text/latex": [
       "\\begin{enumerate*}\n",
       "\\item 1\n",
       "\\item 1\n",
       "\\item 1\n",
       "\\item 1\n",
       "\\item 1\n",
       "\\item 1\n",
       "\\item 1\n",
       "\\item 1\n",
       "\\item 1\n",
       "\\item 1\n",
       "\\item 1\n",
       "\\item 1\n",
       "\\item 1\n",
       "\\item 1\n",
       "\\item 1\n",
       "\\item 1\n",
       "\\item 1\n",
       "\\item 1\n",
       "\\item 1\n",
       "\\item 1\n",
       "\\item 1\n",
       "\\item 1\n",
       "\\item 1\n",
       "\\item 1\n",
       "\\item 1\n",
       "\\item 1\n",
       "\\item 1\n",
       "\\item 1\n",
       "\\item 1\n",
       "\\item 1\n",
       "\\item 1\n",
       "\\item 1\n",
       "\\item 1\n",
       "\\item 1\n",
       "\\item 1\n",
       "\\item 1\n",
       "\\item 1\n",
       "\\item 1\n",
       "\\item 1\n",
       "\\item 1\n",
       "\\item 1\n",
       "\\item 1\n",
       "\\item 1\n",
       "\\item 1\n",
       "\\item 1\n",
       "\\item 1\n",
       "\\item 1\n",
       "\\item 1\n",
       "\\item 1\n",
       "\\item 1\n",
       "\\item 1\n",
       "\\item 1\n",
       "\\item 1\n",
       "\\item 1\n",
       "\\item 1\n",
       "\\item 1\n",
       "\\item 1\n",
       "\\item 1\n",
       "\\item 1\n",
       "\\item 2\n",
       "\\item 3\n",
       "\\item 3\n",
       "\\item 2\n",
       "\\item 2\n",
       "\\item 2\n",
       "\\item 1\n",
       "\\item 2\n",
       "\\item 2\n",
       "\\item 3\n",
       "\\item 2\n",
       "\\item 3\n",
       "\\item 1\n",
       "\\item 2\n",
       "\\item 1\n",
       "\\item 2\n",
       "\\item 2\n",
       "\\item 2\n",
       "\\item 3\n",
       "\\item 2\n",
       "\\item 2\n",
       "\\item 2\n",
       "\\item 2\n",
       "\\item 2\n",
       "\\item 3\n",
       "\\item 2\n",
       "\\item 2\n",
       "\\item 2\n",
       "\\item 2\n",
       "\\item 2\n",
       "\\item 2\n",
       "\\item 2\n",
       "\\item 2\n",
       "\\item 2\n",
       "\\item 2\n",
       "\\item 2\n",
       "\\item 2\n",
       "\\item 3\n",
       "\\item 2\n",
       "\\item 2\n",
       "\\item 2\n",
       "\\item 2\n",
       "\\item 2\n",
       "\\item 2\n",
       "\\item 2\n",
       "\\item 2\n",
       "\\item 2\n",
       "\\item 2\n",
       "\\item 2\n",
       "\\item 2\n",
       "\\item 2\n",
       "\\item 1\n",
       "\\item 2\n",
       "\\item 2\n",
       "\\item 2\n",
       "\\item 2\n",
       "\\item 2\n",
       "\\item 2\n",
       "\\item 2\n",
       "\\item 3\n",
       "\\item 2\n",
       "\\item 2\n",
       "\\item 1\n",
       "\\item 2\n",
       "\\item 1\n",
       "\\item 2\n",
       "\\item 2\n",
       "\\item 2\n",
       "\\item 2\n",
       "\\item 2\n",
       "\\item 2\n",
       "\\item 3\n",
       "\\item 3\n",
       "\\item 3\n",
       "\\item 3\n",
       "\\item 3\n",
       "\\item 3\n",
       "\\item 3\n",
       "\\item 3\n",
       "\\item 3\n",
       "\\item 3\n",
       "\\item 3\n",
       "\\item 3\n",
       "\\item 3\n",
       "\\item 3\n",
       "\\item 3\n",
       "\\item 3\n",
       "\\item 3\n",
       "\\item 3\n",
       "\\item 3\n",
       "\\item 3\n",
       "\\item 3\n",
       "\\item 3\n",
       "\\item 3\n",
       "\\item 3\n",
       "\\item 3\n",
       "\\item 3\n",
       "\\item 3\n",
       "\\item 3\n",
       "\\item 3\n",
       "\\item 3\n",
       "\\item 3\n",
       "\\item 3\n",
       "\\item 3\n",
       "\\item 3\n",
       "\\item 3\n",
       "\\item 3\n",
       "\\item 3\n",
       "\\item 3\n",
       "\\item 3\n",
       "\\item 3\n",
       "\\item 3\n",
       "\\item 3\n",
       "\\item 3\n",
       "\\item 3\n",
       "\\item 3\n",
       "\\item 3\n",
       "\\item 3\n",
       "\\item 3\n",
       "\\end{enumerate*}\n"
      ],
      "text/markdown": [
       "1. 1\n",
       "2. 1\n",
       "3. 1\n",
       "4. 1\n",
       "5. 1\n",
       "6. 1\n",
       "7. 1\n",
       "8. 1\n",
       "9. 1\n",
       "10. 1\n",
       "11. 1\n",
       "12. 1\n",
       "13. 1\n",
       "14. 1\n",
       "15. 1\n",
       "16. 1\n",
       "17. 1\n",
       "18. 1\n",
       "19. 1\n",
       "20. 1\n",
       "21. 1\n",
       "22. 1\n",
       "23. 1\n",
       "24. 1\n",
       "25. 1\n",
       "26. 1\n",
       "27. 1\n",
       "28. 1\n",
       "29. 1\n",
       "30. 1\n",
       "31. 1\n",
       "32. 1\n",
       "33. 1\n",
       "34. 1\n",
       "35. 1\n",
       "36. 1\n",
       "37. 1\n",
       "38. 1\n",
       "39. 1\n",
       "40. 1\n",
       "41. 1\n",
       "42. 1\n",
       "43. 1\n",
       "44. 1\n",
       "45. 1\n",
       "46. 1\n",
       "47. 1\n",
       "48. 1\n",
       "49. 1\n",
       "50. 1\n",
       "51. 1\n",
       "52. 1\n",
       "53. 1\n",
       "54. 1\n",
       "55. 1\n",
       "56. 1\n",
       "57. 1\n",
       "58. 1\n",
       "59. 1\n",
       "60. 2\n",
       "61. 3\n",
       "62. 3\n",
       "63. 2\n",
       "64. 2\n",
       "65. 2\n",
       "66. 1\n",
       "67. 2\n",
       "68. 2\n",
       "69. 3\n",
       "70. 2\n",
       "71. 3\n",
       "72. 1\n",
       "73. 2\n",
       "74. 1\n",
       "75. 2\n",
       "76. 2\n",
       "77. 2\n",
       "78. 3\n",
       "79. 2\n",
       "80. 2\n",
       "81. 2\n",
       "82. 2\n",
       "83. 2\n",
       "84. 3\n",
       "85. 2\n",
       "86. 2\n",
       "87. 2\n",
       "88. 2\n",
       "89. 2\n",
       "90. 2\n",
       "91. 2\n",
       "92. 2\n",
       "93. 2\n",
       "94. 2\n",
       "95. 2\n",
       "96. 2\n",
       "97. 3\n",
       "98. 2\n",
       "99. 2\n",
       "100. 2\n",
       "101. 2\n",
       "102. 2\n",
       "103. 2\n",
       "104. 2\n",
       "105. 2\n",
       "106. 2\n",
       "107. 2\n",
       "108. 2\n",
       "109. 2\n",
       "110. 2\n",
       "111. 1\n",
       "112. 2\n",
       "113. 2\n",
       "114. 2\n",
       "115. 2\n",
       "116. 2\n",
       "117. 2\n",
       "118. 2\n",
       "119. 3\n",
       "120. 2\n",
       "121. 2\n",
       "122. 1\n",
       "123. 2\n",
       "124. 1\n",
       "125. 2\n",
       "126. 2\n",
       "127. 2\n",
       "128. 2\n",
       "129. 2\n",
       "130. 2\n",
       "131. 3\n",
       "132. 3\n",
       "133. 3\n",
       "134. 3\n",
       "135. 3\n",
       "136. 3\n",
       "137. 3\n",
       "138. 3\n",
       "139. 3\n",
       "140. 3\n",
       "141. 3\n",
       "142. 3\n",
       "143. 3\n",
       "144. 3\n",
       "145. 3\n",
       "146. 3\n",
       "147. 3\n",
       "148. 3\n",
       "149. 3\n",
       "150. 3\n",
       "151. 3\n",
       "152. 3\n",
       "153. 3\n",
       "154. 3\n",
       "155. 3\n",
       "156. 3\n",
       "157. 3\n",
       "158. 3\n",
       "159. 3\n",
       "160. 3\n",
       "161. 3\n",
       "162. 3\n",
       "163. 3\n",
       "164. 3\n",
       "165. 3\n",
       "166. 3\n",
       "167. 3\n",
       "168. 3\n",
       "169. 3\n",
       "170. 3\n",
       "171. 3\n",
       "172. 3\n",
       "173. 3\n",
       "174. 3\n",
       "175. 3\n",
       "176. 3\n",
       "177. 3\n",
       "178. 3\n",
       "\n",
       "\n"
      ],
      "text/plain": [
       "  [1] 1 1 1 1 1 1 1 1 1 1 1 1 1 1 1 1 1 1 1 1 1 1 1 1 1 1 1 1 1 1 1 1 1 1 1 1 1\n",
       " [38] 1 1 1 1 1 1 1 1 1 1 1 1 1 1 1 1 1 1 1 1 1 1 2 3 3 2 2 2 1 2 2 3 2 3 1 2 1\n",
       " [75] 2 2 2 3 2 2 2 2 2 3 2 2 2 2 2 2 2 2 2 2 2 2 3 2 2 2 2 2 2 2 2 2 2 2 2 2 1\n",
       "[112] 2 2 2 2 2 2 2 3 2 2 1 2 1 2 2 2 2 2 2 3 3 3 3 3 3 3 3 3 3 3 3 3 3 3 3 3 3\n",
       "[149] 3 3 3 3 3 3 3 3 3 3 3 3 3 3 3 3 3 3 3 3 3 3 3 3 3 3 3 3 3 3"
      ]
     },
     "metadata": {},
     "output_type": "display_data"
    }
   ],
   "source": [
    "# change cluster indexes order to match the indexes/types order from wines dataset\n",
    "kmeans_scale$cluster <- kmeans_scale$cluster - 1\n",
    "kmeans_scale$cluster[kmeans_scale$cluster == 0] <- 3\n",
    "kmeans_scale$cluster"
   ]
  },
  {
   "cell_type": "markdown",
   "id": "19a90df3",
   "metadata": {},
   "source": [
    "Purity - miara wskazująca stosunek danych, które zostały przydzielone do takiego samego klastra, co klasa/typ danych (indeks zewnętrzny)"
   ]
  },
  {
   "cell_type": "code",
   "execution_count": 27,
   "id": "d6b027f8",
   "metadata": {},
   "outputs": [
    {
     "data": {
      "text/html": [
       "0.921348314606742"
      ],
      "text/latex": [
       "0.921348314606742"
      ],
      "text/markdown": [
       "0.921348314606742"
      ],
      "text/plain": [
       "[1] 0.9213483"
      ]
     },
     "metadata": {},
     "output_type": "display_data"
    }
   ],
   "source": [
    "purity = length(kmeans_scale$cluster[kmeans_scale$cluster == wine$Type]) / length(wine$Type)\n",
    "purity"
   ]
  },
  {
   "cell_type": "markdown",
   "id": "268830d7",
   "metadata": {},
   "source": [
    "Purity klasteryzacji jest dosyć wysokie, osiąga ciut ponad 0.92, co oznacza że 92% danych zostało przypisane do swojego poprawnego Typu wina."
   ]
  },
  {
   "cell_type": "markdown",
   "id": "c85e5f68",
   "metadata": {},
   "source": [
    "# Accuracy, Precission i Recall (confusion matrix etc)"
   ]
  },
  {
   "cell_type": "markdown",
   "id": "1c605bb8",
   "metadata": {},
   "source": [
    "Na podstawie : https://danushka.net/lect/dm/Clustering - strona 30"
   ]
  },
  {
   "cell_type": "code",
   "execution_count": 36,
   "id": "2b272274",
   "metadata": {},
   "outputs": [
    {
     "data": {
      "text/html": [
       "<table class=\"dataframe\">\n",
       "<caption>A matrix: 2 × 2 of type dbl</caption>\n",
       "<tbody>\n",
       "\t<tr><td>0</td><td>0</td></tr>\n",
       "\t<tr><td>0</td><td>0</td></tr>\n",
       "</tbody>\n",
       "</table>\n"
      ],
      "text/latex": [
       "A matrix: 2 × 2 of type dbl\n",
       "\\begin{tabular}{ll}\n",
       "\t 0 & 0\\\\\n",
       "\t 0 & 0\\\\\n",
       "\\end{tabular}\n"
      ],
      "text/markdown": [
       "\n",
       "A matrix: 2 × 2 of type dbl\n",
       "\n",
       "| 0 | 0 |\n",
       "| 0 | 0 |\n",
       "\n"
      ],
      "text/plain": [
       "     [,1] [,2]\n",
       "[1,] 0    0   \n",
       "[2,] 0    0   "
      ]
     },
     "metadata": {},
     "output_type": "display_data"
    }
   ],
   "source": [
    "confusion_matrix <- matrix(0,2,2)\n",
    "confusion_matrix"
   ]
  },
  {
   "cell_type": "code",
   "execution_count": 37,
   "id": "e1ad709c",
   "metadata": {},
   "outputs": [],
   "source": [
    "one_in_one <- length(kmeans_scale$cluster[kmeans_scale$cluster == wine$Type & kmeans_scale$cluster == 1 ])\n",
    "one_in_two <- length(kmeans_scale$cluster[kmeans_scale$cluster == 2 & wine$Type == 1 ])\n",
    "one_in_three <- length(kmeans_scale$cluster[kmeans_scale$cluster == 3 & wine$Type == 1 ])\n",
    "two_in_one <- length(kmeans_scale$cluster[kmeans_scale$cluster == 1 & wine$Type == 2 ])\n",
    "two_in_two <- length(kmeans_scale$cluster[kmeans_scale$cluster == wine$Type & kmeans_scale$cluster == 2 ])\n",
    "two_in_three <- length(kmeans_scale$cluster[kmeans_scale$cluster == 3 & wine$Type == 2 ])\n",
    "three_in_one <- length(kmeans_scale$cluster[kmeans_scale$cluster == 1 & wine$Type == 3 ])\n",
    "three_in_two <- length(kmeans_scale$cluster[kmeans_scale$cluster == 2 & wine$Type == 3 ])\n",
    "three_in_three <- length(kmeans_scale$cluster[kmeans_scale$cluster == wine$Type & kmeans_scale$cluster == 3 ])"
   ]
  },
  {
   "cell_type": "code",
   "execution_count": 38,
   "id": "f4a0ba65",
   "metadata": {},
   "outputs": [],
   "source": [
    "cluster_one_size <- length(kmeans_scale$cluster[kmeans_scale$cluster == 1])\n",
    "cluster_two_size <- length(kmeans_scale$cluster[kmeans_scale$cluster == 2])\n",
    "cluster_three_size <- length(kmeans_scale$cluster[kmeans_scale$cluster == 3])"
   ]
  },
  {
   "cell_type": "code",
   "execution_count": 39,
   "id": "057e1687",
   "metadata": {},
   "outputs": [
    {
     "data": {
      "text/html": [
       "5216"
      ],
      "text/latex": [
       "5216"
      ],
      "text/markdown": [
       "5216"
      ],
      "text/plain": [
       "[1] 5216"
      ]
     },
     "metadata": {},
     "output_type": "display_data"
    }
   ],
   "source": [
    "TPFP <- choose(cluster_one_size, 2) + \n",
    "choose(cluster_two_size, 2) + \n",
    "choose(cluster_three_size, 2)\n",
    "\n",
    "TPFP"
   ]
  },
  {
   "cell_type": "code",
   "execution_count": 40,
   "id": "3945e1f8",
   "metadata": {},
   "outputs": [
    {
     "data": {
      "text/html": [
       "4478"
      ],
      "text/latex": [
       "4478"
      ],
      "text/markdown": [
       "4478"
      ],
      "text/plain": [
       "[1] 4478"
      ]
     },
     "metadata": {},
     "output_type": "display_data"
    }
   ],
   "source": [
    "TP <- choose(one_in_one, 2) + choose(one_in_two, 2) + choose(one_in_three, 2) + \n",
    "    choose(two_in_one, 2) + choose(two_in_two, 2) + choose(two_in_three, 2) + \n",
    "    choose(three_in_one, 2) + choose(three_in_two, 2) + choose(three_in_three, 2)\n",
    "\n",
    "TP"
   ]
  },
  {
   "cell_type": "code",
   "execution_count": 41,
   "id": "c2b762f9",
   "metadata": {},
   "outputs": [
    {
     "data": {
      "text/html": [
       "738"
      ],
      "text/latex": [
       "738"
      ],
      "text/markdown": [
       "738"
      ],
      "text/plain": [
       "[1] 738"
      ]
     },
     "metadata": {},
     "output_type": "display_data"
    }
   ],
   "source": [
    "FP <- TPFP - TP\n",
    "FP"
   ]
  },
  {
   "cell_type": "code",
   "execution_count": 42,
   "id": "330725cc",
   "metadata": {},
   "outputs": [
    {
     "data": {
      "text/html": [
       "10537"
      ],
      "text/latex": [
       "10537"
      ],
      "text/markdown": [
       "10537"
      ],
      "text/plain": [
       "[1] 10537"
      ]
     },
     "metadata": {},
     "output_type": "display_data"
    }
   ],
   "source": [
    "TNFN <- cluster_one_size * cluster_two_size + cluster_one_size * cluster_three_size + cluster_two_size * cluster_three_size\n",
    "TNFN"
   ]
  },
  {
   "cell_type": "code",
   "execution_count": 43,
   "id": "0319c971",
   "metadata": {},
   "outputs": [
    {
     "data": {
      "text/html": [
       "846"
      ],
      "text/latex": [
       "846"
      ],
      "text/markdown": [
       "846"
      ],
      "text/plain": [
       "[1] 846"
      ]
     },
     "metadata": {},
     "output_type": "display_data"
    }
   ],
   "source": [
    "FN <- one_in_one * one_in_two + one_in_one * one_in_three + one_in_two * one_in_three +\n",
    "    two_in_two * two_in_one + two_in_two * two_in_three + two_in_one * two_in_three +\n",
    "    three_in_three * three_in_one + three_in_three * three_in_two + three_in_one * three_in_two\n",
    "\n",
    "FN\n"
   ]
  },
  {
   "cell_type": "code",
   "execution_count": 44,
   "id": "07a1f8f8",
   "metadata": {},
   "outputs": [
    {
     "data": {
      "text/html": [
       "9691"
      ],
      "text/latex": [
       "9691"
      ],
      "text/markdown": [
       "9691"
      ],
      "text/plain": [
       "[1] 9691"
      ]
     },
     "metadata": {},
     "output_type": "display_data"
    }
   ],
   "source": [
    "TN <- TNFN - FN\n",
    "TN"
   ]
  },
  {
   "cell_type": "code",
   "execution_count": 45,
   "id": "d7d43967",
   "metadata": {},
   "outputs": [
    {
     "data": {
      "text/html": [
       "<table class=\"dataframe\">\n",
       "<caption>A matrix: 2 × 2 of type dbl</caption>\n",
       "<tbody>\n",
       "\t<tr><td>4478</td><td> 846</td></tr>\n",
       "\t<tr><td> 738</td><td>9691</td></tr>\n",
       "</tbody>\n",
       "</table>\n"
      ],
      "text/latex": [
       "A matrix: 2 × 2 of type dbl\n",
       "\\begin{tabular}{ll}\n",
       "\t 4478 &  846\\\\\n",
       "\t  738 & 9691\\\\\n",
       "\\end{tabular}\n"
      ],
      "text/markdown": [
       "\n",
       "A matrix: 2 × 2 of type dbl\n",
       "\n",
       "| 4478 |  846 |\n",
       "|  738 | 9691 |\n",
       "\n"
      ],
      "text/plain": [
       "     [,1] [,2]\n",
       "[1,] 4478  846\n",
       "[2,]  738 9691"
      ]
     },
     "metadata": {},
     "output_type": "display_data"
    }
   ],
   "source": [
    "confusion_matrix[1,1] <- TP\n",
    "confusion_matrix[1,2] <- FN\n",
    "confusion_matrix[2,1] <- FP\n",
    "confusion_matrix[2,2] <- TN\n",
    "\n",
    "confusion_matrix"
   ]
  },
  {
   "cell_type": "code",
   "execution_count": 46,
   "id": "bee7a6bf",
   "metadata": {},
   "outputs": [
    {
     "data": {
      "text/html": [
       "0.899447724243001"
      ],
      "text/latex": [
       "0.899447724243001"
      ],
      "text/markdown": [
       "0.899447724243001"
      ],
      "text/plain": [
       "[1] 0.8994477"
      ]
     },
     "metadata": {},
     "output_type": "display_data"
    }
   ],
   "source": [
    "# Rand Index (RI)\n",
    "RI <- (TP + TN)/(TP+FP+TN+FN)\n",
    "RI"
   ]
  },
  {
   "cell_type": "code",
   "execution_count": 47,
   "id": "1a8cbd9b",
   "metadata": {},
   "outputs": [
    {
     "data": {
      "text/html": [
       "0.85851226993865"
      ],
      "text/latex": [
       "0.85851226993865"
      ],
      "text/markdown": [
       "0.85851226993865"
      ],
      "text/plain": [
       "[1] 0.8585123"
      ]
     },
     "metadata": {},
     "output_type": "display_data"
    }
   ],
   "source": [
    "#Precision\n",
    "precision <- TP / (TP + FP)\n",
    "precision"
   ]
  },
  {
   "cell_type": "code",
   "execution_count": 48,
   "id": "23b559dd",
   "metadata": {},
   "outputs": [
    {
     "data": {
      "text/html": [
       "0.841096919609316"
      ],
      "text/latex": [
       "0.841096919609316"
      ],
      "text/markdown": [
       "0.841096919609316"
      ],
      "text/plain": [
       "[1] 0.8410969"
      ]
     },
     "metadata": {},
     "output_type": "display_data"
    }
   ],
   "source": [
    "# Recall \n",
    "recall <- TP / (TP + FN)\n",
    "recall"
   ]
  },
  {
   "cell_type": "code",
   "execution_count": null,
   "id": "c08cc061",
   "metadata": {},
   "outputs": [],
   "source": [
    "# F-measure\n",
    "f_measure = 2*precision*recall / (precision+recall)\n",
    "f_measure"
   ]
  },
  {
   "cell_type": "markdown",
   "id": "049d2903",
   "metadata": {},
   "source": [
    "<a id='COMPARSION'></a>\n",
    "# Porównanie z poprzednimi etapami\n",
    "\n",
    "W tej sekcji przyjrzymy się bliżej zestawieniu wyników klasteracji i poszczególnych indeksów dla wszystkich czterech algorytmów, wyniki prezentują się następująco:\n",
    "\n",
    "\n",
    "\n",
    "\n",
    "| Algorytm     | Precision         | Recall            | F-measure         | Rand Index     | Purity (indeks zewnętrzny)  | Index Dunna        |\n",
    "|--------------|-------------------|-------------------|-------------------|-------------------| -------------------|--------------------|\n",
    "| Proj1 - PCA  | 0.938810522302707 | 0.925056348610068 | 0.931882686849574 | 0.954294420110455 | 0.971910112359551 | 0.0669221560311947 |\n",
    "| Proj2 - LDA  | 1 | 1 | 1 | 1 | 1 | 0.139147270843629  |\n",
    "| Proj3 - SOM  | 0.936858120958539| 0.925244177310293 | 0.931014931014931 | 0.953659620389767 | 0.966292134831461 | 0.224804337255736  |\n",
    "| Proj4 - NeRV | 0.85851226993865  | 0.841096919609316 | 0.849715370018975 | 0.899447724243001 | 0.921348314606742 | 0.0986222363850484 |\n",
    "\n",
    "\n",
    "Widzimy że dla `PCA` i `SOM` wartości `precision`, `recall`, `F - measure` i `rand index` były bardzo podobne. Wyniki dla NeRV okazały się gorsze co oznacza, że nie jest on najlepszym wyborem dla naszego zbioru danych. Najlepszym wyborem w przypadku zbioru win okazał się algorytm `LDA`, który bezbłędnie przyporządkował próbki.\n",
    "\n",
    "Poobne tendencje wykazuje indeks zewnętrzny `purity`, który jest miarą wskazującą stosunek danych, które zostały przydzielone do takiego samego klastra, co klasa/typ danych. Z danych również możemy wywnioskować, że `NeRV` okazał się najgorszym wyborem, a najlepszym ponownie `LDA`.\n",
    "\n",
    "Duże różnice wykazuje `index dunna`. Widzimy ze wartości bardzo się od siebie różnią. Najgorszym w tym przypadku okazał się algorytm `PCA`. Oznacza to, że odległości wewnątrz próbek w danej klasie są większe lub/i odległości między klasami są mniejsze dla wyściowego rozjkłądu klasteryzacji. Oczekiwane jest duże podobieństwo/mała odległość wewnątrz grupy i duża odległość pomiędzy grupami.\n",
    "\n",
    "![](metryki.png)\n",
    "![](dunn.png)"
   ]
  },
  {
   "cell_type": "markdown",
   "id": "dfc688f2",
   "metadata": {},
   "source": [
    "<a id='SUMMARY'></a>\n",
    "# Podsumowanie"
   ]
  },
  {
   "cell_type": "markdown",
   "id": "87043300",
   "metadata": {},
   "source": [
    "NeRV jest ciekawym przykłądem algorytmu zachowującego sąsiedztwo, który nakleży do metod nieliniowej wizualizacji danych. Dzięki pakietowi \"ProjectionBasedClustering\" dla języka R, mogliśmy w łatwy sposób wykorzystać go w celu zwizualizowania zbioru danych win na dwuwymiarowym wykresie.\n",
    "\n",
    "Na podstawie porównania współczynnikókó klasteryzacji i innych indeksów, mozemy wywnioskowac że algorytm NeRV nie sprwdził się najlepiej ze wszystkich używanych algorytmw. Współczynniki Precision/Recall/F--mesure i Rand index okazały się najgorsze z pośród algorytmów PCA/LDA/SOM i NeRV. Jedyną zaleta jest wyższa wartośc współczynnika diuna niż PCA co świadczy o lepszemu podziałowi na klasy, tj. większej odległości między próbkami jednej grupy i większa odległość pomiędzy samymi grupami."
   ]
  },
  {
   "cell_type": "markdown",
   "id": "4c5e99e1",
   "metadata": {},
   "source": [
    "# Wartościowe linki"
   ]
  },
  {
   "cell_type": "markdown",
   "id": "a1d2a35c",
   "metadata": {},
   "source": [
    "## NeRV\n",
    "\n",
    "https://rdrr.io/cran/ProjectionBasedClustering/man/PlotProjectedPoints.html\n",
    "\n",
    "https://rdrr.io/cran/ProjectionBasedClustering/man/NeRV.html"
   ]
  },
  {
   "cell_type": "markdown",
   "id": "644d0278",
   "metadata": {},
   "source": [
    "\n",
    "\n",
    "## kmeans\n",
    "\n",
    "https://rstudio-pubs-static.s3.amazonaws.com/542882_1caaeaa4c74945cb87a3483282cc31cd.html\n",
    "\n",
    "https://www.kaggle.com/xvivancos/tutorial-clustering-wines-with-k-means\\\n",
    "\n",
    "https://www.datanovia.com/en/blog/k-means-clustering-visualization-in-r-step-by-step-guide/"
   ]
  }
 ],
 "metadata": {
  "kernelspec": {
   "display_name": "R",
   "language": "R",
   "name": "ir"
  },
  "language_info": {
   "codemirror_mode": "r",
   "file_extension": ".r",
   "mimetype": "text/x-r-source",
   "name": "R",
   "pygments_lexer": "r",
   "version": "4.1.1"
  }
 },
 "nbformat": 4,
 "nbformat_minor": 5
}
